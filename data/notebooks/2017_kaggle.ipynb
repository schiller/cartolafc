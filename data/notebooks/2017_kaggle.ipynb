{
 "cells": [
  {
   "cell_type": "code",
   "execution_count": 21,
   "metadata": {
    "collapsed": true
   },
   "outputs": [],
   "source": [
    "import requests\n",
    "import pandas as pd\n",
    "import csv\n",
    "\n",
    "pd.options.display.max_columns = 50"
   ]
  },
  {
   "cell_type": "code",
   "execution_count": 2,
   "metadata": {
    "collapsed": true
   },
   "outputs": [],
   "source": [
    "base_url = 'https://api.cartolafc.globo.com/'"
   ]
  },
  {
   "cell_type": "code",
   "execution_count": 3,
   "metadata": {
    "collapsed": true
   },
   "outputs": [],
   "source": [
    "def get_mercado():\n",
    "    url = \"{}atletas/mercado\".format(base_url)\n",
    "    response = requests.get(url)\n",
    "    return response.json()"
   ]
  },
  {
   "cell_type": "code",
   "execution_count": 4,
   "metadata": {
    "collapsed": true
   },
   "outputs": [],
   "source": [
    "def mercado_json_to_df(json):\n",
    "    #     \"atletas\":[\n",
    "    #     {\n",
    "    #         \"nome\":\"Rodrigo Baldasso da Costa\",\n",
    "    #         \"apelido\":\"Rodrigo\",\n",
    "    #         \"foto\":\"https://s.glbimg.com/es/sde/f/2017/06/13/a5cb57a41ef2b2308c98b76ba24b430a_FORMATO.png\",\n",
    "    #         \"atleta_id\":37644,\n",
    "    #         \"rodada_id\":12,\n",
    "    #         \"clube_id\":303,\n",
    "    #         \"posicao_id\":3,\n",
    "    #         \"status_id\":2,\n",
    "    #         \"pontos_num\":5.2,\n",
    "    #         \"preco_num\":9.04,\n",
    "    #         \"variacao_num\":1.31,\n",
    "    #         \"media_num\":3.17,\n",
    "    #         \"jogos_num\":8,\n",
    "    #         \"scout\":{\"CA\":2,\"CV\":1,\"FC\":5,\"FD\":2,\"FF\":5,\"FS\":15,\"I\":1,\"PE\":14,\"RB\":8,\"SG\":3}\n",
    "    #     },\n",
    "    data = []\n",
    "    columns = [\"atleta_id\", \"rodada_id\", \"clube_id\", \"posicao_id\", \"status_id\",\n",
    "               \"pontos_num\", \"preco_num\", \"variacao_num\", \"media_num\", \"jogos_num\",\n",
    "               \"FS\", \"PE\", \"A\", \"FT\", \"FD\", \"FF\", \"G\", \"I\", \"PP\",\n",
    "               \"RB\", \"FC\", \"GC\", \"CA\", \"CV\", \"SG\", \"DD\", \"DP\", \"GS\"]\n",
    "    scouts = [\"FS\", \"PE\", \"A\", \"FT\", \"FD\", \"FF\", \"G\", \"I\", \"PP\",\n",
    "               \"RB\", \"FC\", \"GC\", \"CA\", \"CV\", \"SG\", \"DD\", \"DP\", \"GS\"]\n",
    "    \n",
    "    for atleta in json[\"atletas\"]:\n",
    "        row = []\n",
    "        for column in columns:\n",
    "            if column in scouts:\n",
    "                if column in atleta[\"scout\"]:\n",
    "                    row.append(atleta[\"scout\"][column])\n",
    "                else:\n",
    "                    row.append(None)\n",
    "            else:\n",
    "                if column in atleta:\n",
    "                    row.append(atleta[column])\n",
    "                else:\n",
    "                    row.append(None)\n",
    "        data.append(row)\n",
    "    \n",
    "    df = pd.DataFrame(data=data, columns=columns)\n",
    "    return df"
   ]
  },
  {
   "cell_type": "code",
   "execution_count": 23,
   "metadata": {
    "collapsed": true
   },
   "outputs": [],
   "source": [
    "def atletas_json_to_df(json):\n",
    "    #     \"atletas\":[\n",
    "    #     {\n",
    "    #         \"nome\":\"Rodrigo Baldasso da Costa\",\n",
    "    #         \"apelido\":\"Rodrigo\",\n",
    "    #         \"foto\":\"https://s.glbimg.com/es/sde/f/2017/06/13/a5cb57a41ef2b2308c98b76ba24b430a_FORMATO.png\",\n",
    "    #         \"atleta_id\":37644,\n",
    "    #         \"rodada_id\":12,\n",
    "    #         \"clube_id\":303,\n",
    "    #         \"posicao_id\":3,\n",
    "    #         \"status_id\":2,\n",
    "    #         \"pontos_num\":5.2,\n",
    "    #         \"preco_num\":9.04,\n",
    "    #         \"variacao_num\":1.31,\n",
    "    #         \"media_num\":3.17,\n",
    "    #         \"jogos_num\":8,\n",
    "    #         \"scout\":{\"CA\":2,\"CV\":1,\"FC\":5,\"FD\":2,\"FF\":5,\"FS\":15,\"I\":1,\"PE\":14,\"RB\":8,\"SG\":3}\n",
    "    #     },\n",
    "    data = []\n",
    "    columns = [\"atleta_id\", \"nome\", \"apelido\"]\n",
    "    \n",
    "    for atleta in json[\"atletas\"]:\n",
    "        row = []\n",
    "        for column in columns:\n",
    "            if column in atleta:\n",
    "                if column != \"atleta_id\":\n",
    "                    row.append(atleta[column].encode('utf-8'))\n",
    "                else:\n",
    "                    row.append(atleta[column])\n",
    "            else:\n",
    "                row.append(None)\n",
    "        data.append(row)\n",
    "    \n",
    "    df = pd.DataFrame(data=data, columns=columns)\n",
    "    return df"
   ]
  },
  {
   "cell_type": "code",
   "execution_count": 36,
   "metadata": {
    "collapsed": true
   },
   "outputs": [],
   "source": [
    "scouts_columns = [\"FS\", \"PE\", \"A\", \"FT\", \"FD\", \"FF\", \"G\", \"I\", \"PP\",\n",
    "                  \"RB\", \"FC\", \"GC\", \"CA\", \"CV\", \"SG\", \"DD\", \"DP\", \"GS\"]"
   ]
  },
  {
   "cell_type": "code",
   "execution_count": 13,
   "metadata": {
    "collapsed": true
   },
   "outputs": [],
   "source": [
    "mercado = get_mercado()\n",
    "\n",
    "scouts = pd.read_csv(\"../2017/scouts.csv\")\n",
    "scouts_rodada = mercado_json_to_df(mercado)\n",
    "scouts_rodada[scouts_columns] = scouts_rodada[scouts_columns].fillna(0).astype(\"int\")\n",
    "new_scouts = pd.concat([scouts, scouts_rodada])\n",
    "new_scouts.to_csv(\"../2017/new_scouts.csv\", index=False, quoting=csv.QUOTE_NONNUMERIC)\n",
    "\n",
    "scouts_diff = new_scouts.copy()\n",
    "scouts_cumsum_columns = [\"{}_cumsum\".format(scout) for scout in scouts_columns]\n",
    "new_columns = scouts.columns.tolist()[0:10] + scouts_cumsum_columns\n",
    "scouts_diff.columns = new_columns\n",
    "scouts_diff[scouts_columns] = scouts_diff.groupby(\"atleta_id\")[scouts_cumsum_columns] \\\n",
    "                                .transform(pd.Series.diff).fillna(0).astype(\"int\")\n",
    "scouts_diff = scouts_diff.drop(scouts_cumsum_columns, axis=1)\n",
    "scouts_diff.to_csv(\"../kaggle/2017_scouts.csv\", index=False, quoting=csv.QUOTE_NONNUMERIC)\n",
    "\n",
    "atletas = pd.read_csv(\"../2017/atletas.csv\")\n",
    "atletas_rodada = atletas_json_to_df(mercado)\n",
    "new_atletas = pd.merge(atletas, atletas_rodada, how=\"outer\")\n",
    "new_atletas.to_csv(\"../2017/new_atletas.csv\", index=False, quoting=csv.QUOTE_NONNUMERIC)\n",
    "new_atletas.to_csv(\"../kaggle/2017_atletas.csv\", index=False, quoting=csv.QUOTE_NONNUMERIC)"
   ]
  },
  {
   "cell_type": "code",
   "execution_count": null,
   "metadata": {
    "collapsed": true
   },
   "outputs": [],
   "source": []
  }
 ],
 "metadata": {
  "anaconda-cloud": {},
  "kernelspec": {
   "display_name": "Python [default]",
   "language": "python",
   "name": "python2"
  },
  "language_info": {
   "codemirror_mode": {
    "name": "ipython",
    "version": 2
   },
   "file_extension": ".py",
   "mimetype": "text/x-python",
   "name": "python",
   "nbconvert_exporter": "python",
   "pygments_lexer": "ipython2",
   "version": "2.7.12"
  }
 },
 "nbformat": 4,
 "nbformat_minor": 1
}
