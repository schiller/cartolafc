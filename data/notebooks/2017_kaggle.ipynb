{
 "cells": [
  {
   "cell_type": "code",
   "execution_count": 1,
   "metadata": {
    "collapsed": true
   },
   "outputs": [],
   "source": [
    "import requests\n",
    "import pandas as pd\n",
    "import csv\n",
    "\n",
    "pd.options.display.max_columns = 50"
   ]
  },
  {
   "cell_type": "code",
   "execution_count": 2,
   "metadata": {
    "collapsed": true
   },
   "outputs": [],
   "source": [
    "base_url = 'https://api.cartolafc.globo.com/'"
   ]
  },
  {
   "cell_type": "code",
   "execution_count": 3,
   "metadata": {
    "collapsed": true
   },
   "outputs": [],
   "source": [
    "def get_mercado():\n",
    "    url = \"{}atletas/mercado\".format(base_url)\n",
    "    response = requests.get(url)\n",
    "    return response.json()"
   ]
  },
  {
   "cell_type": "code",
   "execution_count": 4,
   "metadata": {
    "collapsed": true
   },
   "outputs": [],
   "source": [
    "def mercado_json_to_df(json):\n",
    "    #     \"atletas\":[\n",
    "    #     {\n",
    "    #         \"nome\":\"Rodrigo Baldasso da Costa\",\n",
    "    #         \"apelido\":\"Rodrigo\",\n",
    "    #         \"foto\":\"https://s.glbimg.com/es/sde/f/2017/06/13/a5cb57a41ef2b2308c98b76ba24b430a_FORMATO.png\",\n",
    "    #         \"atleta_id\":37644,\n",
    "    #         \"rodada_id\":12,\n",
    "    #         \"clube_id\":303,\n",
    "    #         \"posicao_id\":3,\n",
    "    #         \"status_id\":2,\n",
    "    #         \"pontos_num\":5.2,\n",
    "    #         \"preco_num\":9.04,\n",
    "    #         \"variacao_num\":1.31,\n",
    "    #         \"media_num\":3.17,\n",
    "    #         \"jogos_num\":8,\n",
    "    #         \"scout\":{\"CA\":2,\"CV\":1,\"FC\":5,\"FD\":2,\"FF\":5,\"FS\":15,\"I\":1,\"PE\":14,\"RB\":8,\"SG\":3}\n",
    "    #     },\n",
    "    data = []\n",
    "    columns = [\"atleta_id\", \"rodada_id\", \"clube_id\", \"posicao_id\", \"status_id\",\n",
    "               \"pontos_num\", \"preco_num\", \"variacao_num\", \"media_num\", \"jogos_num\",\n",
    "               \"FS\", \"PE\", \"A\", \"FT\", \"FD\", \"FF\", \"G\", \"I\", \"PP\",\n",
    "               \"RB\", \"FC\", \"GC\", \"CA\", \"CV\", \"SG\", \"DD\", \"DP\", \"GS\"]\n",
    "    scouts = [\"FS\", \"PE\", \"A\", \"FT\", \"FD\", \"FF\", \"G\", \"I\", \"PP\",\n",
    "               \"RB\", \"FC\", \"GC\", \"CA\", \"CV\", \"SG\", \"DD\", \"DP\", \"GS\"]\n",
    "    \n",
    "    for atleta in json[\"atletas\"]:\n",
    "        row = []\n",
    "        for column in columns:\n",
    "            if column in scouts:\n",
    "                if column in atleta[\"scout\"]:\n",
    "                    row.append(atleta[\"scout\"][column])\n",
    "                else:\n",
    "                    row.append(None)\n",
    "            else:\n",
    "                if column in atleta:\n",
    "                    row.append(atleta[column])\n",
    "                else:\n",
    "                    row.append(None)\n",
    "        data.append(row)\n",
    "    \n",
    "    df = pd.DataFrame(data=data, columns=columns)\n",
    "    return df"
   ]
  },
  {
   "cell_type": "code",
   "execution_count": 5,
   "metadata": {
    "collapsed": true
   },
   "outputs": [],
   "source": [
    "def atletas_json_to_df(json):\n",
    "    #     \"atletas\":[\n",
    "    #     {\n",
    "    #         \"nome\":\"Rodrigo Baldasso da Costa\",\n",
    "    #         \"apelido\":\"Rodrigo\",\n",
    "    #         \"foto\":\"https://s.glbimg.com/es/sde/f/2017/06/13/a5cb57a41ef2b2308c98b76ba24b430a_FORMATO.png\",\n",
    "    #         \"atleta_id\":37644,\n",
    "    #         \"rodada_id\":12,\n",
    "    #         \"clube_id\":303,\n",
    "    #         \"posicao_id\":3,\n",
    "    #         \"status_id\":2,\n",
    "    #         \"pontos_num\":5.2,\n",
    "    #         \"preco_num\":9.04,\n",
    "    #         \"variacao_num\":1.31,\n",
    "    #         \"media_num\":3.17,\n",
    "    #         \"jogos_num\":8,\n",
    "    #         \"scout\":{\"CA\":2,\"CV\":1,\"FC\":5,\"FD\":2,\"FF\":5,\"FS\":15,\"I\":1,\"PE\":14,\"RB\":8,\"SG\":3}\n",
    "    #     },\n",
    "    data = []\n",
    "    columns = [\"atleta_id\", \"nome\", \"apelido\"]\n",
    "    \n",
    "    for atleta in json[\"atletas\"]:\n",
    "        row = []\n",
    "        for column in columns:\n",
    "            row.append(atleta[column])\n",
    "        data.append(row)\n",
    "    \n",
    "    df = pd.DataFrame(data=data, columns=columns)\n",
    "    return df"
   ]
  },
  {
   "cell_type": "code",
   "execution_count": 6,
   "metadata": {
    "collapsed": true
   },
   "outputs": [],
   "source": [
    "scouts_columns = [\"FS\", \"PE\", \"A\", \"FT\", \"FD\", \"FF\", \"G\", \"I\", \"PP\",\n",
    "                  \"RB\", \"FC\", \"GC\", \"CA\", \"CV\", \"SG\", \"DD\", \"DP\", \"GS\"]"
   ]
  },
  {
   "cell_type": "code",
   "execution_count": 13,
   "metadata": {
    "collapsed": true
   },
   "outputs": [],
   "source": [
    "mercado = get_mercado()\n",
    "\n",
    "scouts = pd.read_csv(\"../2017/scouts.csv\")\n",
    "scouts_rodada = mercado_json_to_df(mercado)\n",
    "scouts_rodada[scouts_columns] = scouts_rodada[scouts_columns].fillna(0).astype(\"int\")\n",
    "new_scouts = pd.concat([scouts, scouts_rodada])\n",
    "new_scouts.to_csv(\"../2017/new_scouts.csv\", index=False, quoting=csv.QUOTE_NONNUMERIC, encoding=\"utf-8\")\n",
    "\n",
    "scouts_diff = new_scouts.copy()\n",
    "scouts_cumsum_columns = [\"{}_cumsum\".format(scout) for scout in scouts_columns]\n",
    "new_columns = scouts.columns.tolist()[0:10] + scouts_cumsum_columns\n",
    "scouts_diff.columns = new_columns\n",
    "scouts_diff[scouts_columns] = scouts_diff.groupby(\"atleta_id\")[scouts_cumsum_columns] \\\n",
    "                                .transform(pd.Series.diff).fillna(0).astype(\"int\")\n",
    "scouts_diff = scouts_diff.drop(scouts_cumsum_columns, axis=1)\n",
    "scouts_diff.to_csv(\"../kaggle/2017_scouts.csv\", index=False, quoting=csv.QUOTE_NONNUMERIC, encoding=\"utf-8\")\n",
    "\n",
    "atletas = pd.read_csv(\"../2017/atletas.csv\")\n",
    "atletas_rodada = atletas_json_to_df(mercado)\n",
    "new_atletas = pd.merge(atletas, atletas_rodada, how=\"outer\")\n",
    "new_atletas.to_csv(\"../2017/new_atletas.csv\", index=False, quoting=csv.QUOTE_NONNUMERIC, encoding=\"utf-8\")\n",
    "new_atletas.to_csv(\"../kaggle/2017_atletas.csv\", index=False, quoting=csv.QUOTE_NONNUMERIC, encoding=\"utf-8\")"
   ]
  },
  {
   "cell_type": "code",
   "execution_count": 15,
   "metadata": {
    "collapsed": true
   },
   "outputs": [],
   "source": [
    "def get_partidas(rodada):\n",
    "    url = \"{}partidas/{}\".format(base_url, rodada)\n",
    "    response = requests.get(url)\n",
    "    return response.json()"
   ]
  },
  {
   "cell_type": "code",
   "execution_count": 24,
   "metadata": {
    "collapsed": true
   },
   "outputs": [],
   "source": [
    "def partidas_json_to_df(json):\n",
    "    # {\"partidas\":[\n",
    "    #     {\n",
    "    #         \"clube_casa_id\":266,\n",
    "    #         \"clube_casa_posicao\":8,\n",
    "    #         \"clube_visitante_id\":315,\n",
    "    #         \"aproveitamento_mandante\":[\"e\",\"v\",\"e\",\"e\",\"e\"],\n",
    "    #         \"aproveitamento_visitante\":[\"d\",\"d\",\"d\",\"e\",\"e\"],\n",
    "    #         \"clube_visitante_posicao\":15,\n",
    "    #         \"partida_data\":\"2017-07-03 20:00:00\",\n",
    "    #         \"local\":\"Giulite Coutinho\",\n",
    "    #         \"valida\":true,\n",
    "    #         \"placar_oficial_mandante\":3,\n",
    "    #         \"placar_oficial_visitante\":3,\n",
    "    #         \"url_confronto\":\"http://globoesporte.globo.com/rj/futebol/brasileirao-serie-a/jogo/03-07-2017/fluminense-chapecoense\",\n",
    "    #         \"url_transmissao\":\"\"\n",
    "    #     },\n",
    "    data = []\n",
    "    columns = [\"clube_casa_id\",\"clube_visitante_id\",\n",
    "               \"clube_casa_posicao\",\"clube_visitante_posicao\",\n",
    "               \"aproveitamento_mandante\",\"aproveitamento_visitante\",\n",
    "               \"placar_oficial_mandante\",\"placar_oficial_visitante\",\n",
    "               \"partida_data\",\"local\",\"valida\"]\n",
    "    rodada_id = json[\"rodada\"]\n",
    "    partidas = json[\"partidas\"]\n",
    "    for partida in partidas:\n",
    "        row = [rodada_id]\n",
    "        for column in columns:\n",
    "            if column in [\"aproveitamento_mandante\", \"aproveitamento_visitante\"]:\n",
    "                row.append(\"\".join(partida[column]))\n",
    "            else:\n",
    "                row.append(partida[column])\n",
    "        data.append(row)\n",
    "    \n",
    "    df = pd.DataFrame(data=data, columns=[\"rodada_id\"] + columns)\n",
    "    return df"
   ]
  },
  {
   "cell_type": "code",
   "execution_count": 28,
   "metadata": {
    "collapsed": true
   },
   "outputs": [],
   "source": [
    "partidas = pd.read_csv(\"../2017/partidas.csv\")\n",
    "partidas_rodada_json = get_partidas(15)\n",
    "partidas_proximas_json = get_partidas(16)\n",
    "partidas_rodada = partidas_json_to_df(partidas_rodada_json)\n",
    "partidas_rodada = partidas_json_to_df(partidas_rodada_json)\n",
    "new_partidas = pd.concat([partidas, partidas_rodada])\n",
    "new_partidas.to_csv(\"../2017/new_partidas.csv\", index=False, quoting=csv.QUOTE_NONNUMERIC, encoding=\"utf-8\")\n",
    "new_partidas.to_csv(\"../kaggle/2017_partidas.csv\", index=False, quoting=csv.QUOTE_NONNUMERIC, encoding=\"utf-8\")"
   ]
  },
  {
   "cell_type": "code",
   "execution_count": 17,
   "metadata": {},
   "outputs": [],
   "source": []
  }
 ],
 "metadata": {
  "anaconda-cloud": {},
  "kernelspec": {
   "display_name": "Python 3",
   "language": "python",
   "name": "python3"
  },
  "language_info": {
   "codemirror_mode": {
    "name": "ipython",
    "version": 3
   },
   "file_extension": ".py",
   "mimetype": "text/x-python",
   "name": "python",
   "nbconvert_exporter": "python",
   "pygments_lexer": "ipython3",
   "version": "3.6.2"
  }
 },
 "nbformat": 4,
 "nbformat_minor": 1
}
